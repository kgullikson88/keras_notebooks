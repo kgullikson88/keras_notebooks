{
 "cells": [
  {
   "cell_type": "markdown",
   "metadata": {},
   "source": [
    "# Training a convolutional neural network on the [MNIST](https://en.wikipedia.org/wiki/MNIST_database) data. \n",
    "\n",
    "The original code in script form is [here](https://github.com/fchollet/keras/blob/master/examples/mnist_cnn.py)."
   ]
  },
  {
   "cell_type": "code",
   "execution_count": 1,
   "metadata": {
    "collapsed": false
   },
   "outputs": [
    {
     "name": "stderr",
     "output_type": "stream",
     "text": [
      "Using Theano backend.\n"
     ]
    }
   ],
   "source": [
    "# Import some stuff\n",
    "from __future__ import print_function, absolute_import, division\n",
    "import numpy as np\n",
    "np.random.seed(1337)  # for reproducibility\n",
    "\n",
    "from keras.datasets import mnist\n",
    "from keras.models import Sequential\n",
    "from keras.layers import Dense, Dropout, Activation, Flatten\n",
    "from keras.layers import Convolution2D, MaxPooling2D\n",
    "from keras.utils import np_utils\n"
   ]
  },
  {
   "cell_type": "markdown",
   "metadata": {},
   "source": [
    "# Neural Network Settings\n",
    "\n",
    "Here are most of the settings that describe the neural network we use.\n",
    "\n",
    "- Iterations:  These values set the number of iterations.\n",
    "    - **`batch_size`**: The number of samples per gradient update. Bigger values make the gradient update more accurate, but mean it takes longer to train the neural network\n",
    "    - **`nb_epoch`**: The number of times to go through all of the training data. Since `batch_size` is less than the full training set size, each \"epoch\" will be updating the gradient multiple times. So basically, the number of iterations is `nb_epoch * sample_size / batch_size`.    \n",
    "- **`nb_classes`**: The number of classes in the output. For this dataset, it is the numbers 0-9.\n",
    "- Convolution Filter settings: Used in the `Convolution2D` layers. In this case, we have two identical convolution layers.\n",
    "    - **`nb_filters`**: The number of convolution filters. Each image is convolved with all of these filters.\n",
    "    - **`nb_conv`**: The number of rows and columns in the convolution filters. In this case, each filter is a 3x3 kernel.\n",
    "    \n",
    "- **`nb_pool`**: Factor by which to downscale the image (in this case the convolved images) before going to the \"normal\" part of the neural network. This speeds things up, since it reduces the number of features. Used in the `MaxPooling2d` layer.\n",
    "- Dropout parameters: These are used in the `Dropout` layers. The layer randomly sets a fraction `p` of the input units to 0 at each gradient update. It helps to prevent overfitting. The parameters are:\n",
    "    - **`conv_dropout`**: Used in the convolution stage\n",
    "    - **`dense_dropout`**: Used in the \"normal\" stage\n",
    "- **`nb_hidden`**: The number of hidden layers in the \"normal\" part of the neural network.\n",
    "\n",
    "# Network Visualization:\n",
    "\n",
    "The neural network looks similar to this one, although this one has an extra pooling step and one more hidden layer in the \"normal\" part of the network:\n",
    "\n",
    "<img src=\"http://d3kbpzbmcynnmx.cloudfront.net/wp-content/uploads/2015/11/Screen-Shot-2015-11-07-at-7.26.20-AM.png\">\n",
    "\n",
    "The steps of this neural network are:\n",
    "\n",
    "1. The original image\n",
    "2. 1st convolution layer. The result is a bunch of images that are distorted versions of the original\n",
    "3. Second convolution layer. Convolves all of the convolved images.\n",
    "4. Pooling layer (downsamples the images). In the image above, there is a pooling layer after each convolution layer. In our network, there is only one pooling layer after both convolutions are done.\n",
    "5. Fully-connected layer. Each pixel of each image from the previous layer goes into a \"normal\" neural network node (I think that is how it goes from convolution stage to normal stage at least...)\n",
    "6. Fully-connected output layer. Each of the outputs from the previous layer is fed into ten nodes that produce probabilities for each class."
   ]
  },
  {
   "cell_type": "code",
   "execution_count": 126,
   "metadata": {
    "collapsed": true
   },
   "outputs": [],
   "source": [
    "# Set some constants\n",
    "batch_size = 128\n",
    "nb_classes = 10    \n",
    "nb_epoch = 12      \n",
    "\n",
    "# input image dimensions\n",
    "img_rows, img_cols = 28, 28\n",
    "# number of convolutional filters to use\n",
    "nb_filters = 32\n",
    "# size of pooling area for max pooling\n",
    "nb_pool = 2\n",
    "# convolution kernel size\n",
    "nb_conv = 3\n",
    "\n",
    "# Dropout parameters\n",
    "conv_dropout = 0.25\n",
    "dens_dropout = 0.5\n",
    "\n",
    "# Set hidden layer size\n",
    "nb_hidden = 128\n"
   ]
  },
  {
   "cell_type": "markdown",
   "metadata": {},
   "source": [
    "## Get the training data"
   ]
  },
  {
   "cell_type": "code",
   "execution_count": 4,
   "metadata": {
    "collapsed": false
   },
   "outputs": [
    {
     "name": "stdout",
     "output_type": "stream",
     "text": [
      "Downloading data from https://s3.amazonaws.com/img-datasets/mnist.pkl.gz\n",
      "15286272/15296311 [============================>.] - ETA: 0sX_train shape: (60000, 1, 28, 28)\n",
      "60000 train samples\n",
      "10000 test samples\n"
     ]
    }
   ],
   "source": [
    "# the data, shuffled and split between train and test sets\n",
    "(X_train, y_train), (X_test, y_test) = mnist.load_data()\n",
    "\n",
    "X_train = X_train.reshape(X_train.shape[0], 1, img_rows, img_cols)\n",
    "X_test = X_test.reshape(X_test.shape[0], 1, img_rows, img_cols)\n",
    "X_train = X_train.astype('float32')\n",
    "X_test = X_test.astype('float32')\n",
    "X_train /= 255\n",
    "X_test /= 255\n",
    "print('X_train shape:', X_train.shape)\n",
    "print(X_train.shape[0], 'train samples')\n",
    "print(X_test.shape[0], 'test samples')\n",
    "\n",
    "# convert class vectors to binary class matrices\n",
    "Y_train = np_utils.to_categorical(y_train, nb_classes)\n",
    "Y_test = np_utils.to_categorical(y_test, nb_classes)"
   ]
  },
  {
   "cell_type": "markdown",
   "metadata": {},
   "source": [
    "## Setup the model"
   ]
  },
  {
   "cell_type": "code",
   "execution_count": 6,
   "metadata": {
    "collapsed": true
   },
   "outputs": [],
   "source": [
    "model = Sequential()\n",
    "\n",
    "model.add(Convolution2D(nb_filters, nb_conv, nb_conv,\n",
    "                        border_mode='valid',\n",
    "                        input_shape=(1, img_rows, img_cols)))\n",
    "model.add(Activation('relu'))\n",
    "model.add(Convolution2D(nb_filters, nb_conv, nb_conv))\n",
    "model.add(Activation('relu'))\n",
    "model.add(MaxPooling2D(pool_size=(nb_pool, nb_pool)))\n",
    "model.add(Dropout(conv_dropout))\n",
    "\n",
    "model.add(Flatten())\n",
    "model.add(Dense(nb_hidden))\n",
    "model.add(Activation('relu'))\n",
    "model.add(Dropout(dens_dropout))\n",
    "model.add(Dense(nb_classes))\n",
    "model.add(Activation('softmax'))\n",
    "\n",
    "model.compile(loss='categorical_crossentropy',\n",
    "              optimizer='adadelta',\n",
    "              metrics=['accuracy'])"
   ]
  },
  {
   "cell_type": "markdown",
   "metadata": {},
   "source": [
    "## Fit the model"
   ]
  },
  {
   "cell_type": "code",
   "execution_count": 7,
   "metadata": {
    "collapsed": false
   },
   "outputs": [
    {
     "name": "stdout",
     "output_type": "stream",
     "text": [
      "Train on 60000 samples, validate on 10000 samples\n",
      "Epoch 1/12\n",
      "60000/60000 [==============================] - 113s - loss: 0.3949 - acc: 0.8804 - val_loss: 0.1023 - val_acc: 0.9677\n",
      "Epoch 2/12\n",
      "60000/60000 [==============================] - 114s - loss: 0.1486 - acc: 0.9561 - val_loss: 0.0658 - val_acc: 0.9801\n",
      "Epoch 3/12\n",
      "60000/60000 [==============================] - 113s - loss: 0.1124 - acc: 0.9667 - val_loss: 0.0519 - val_acc: 0.9833\n",
      "Epoch 4/12\n",
      "60000/60000 [==============================] - 114s - loss: 0.0946 - acc: 0.9721 - val_loss: 0.0458 - val_acc: 0.9844\n",
      "Epoch 5/12\n",
      "60000/60000 [==============================] - 112s - loss: 0.0813 - acc: 0.9762 - val_loss: 0.0414 - val_acc: 0.9862\n",
      "Epoch 6/12\n",
      "60000/60000 [==============================] - 113s - loss: 0.0722 - acc: 0.9784 - val_loss: 0.0409 - val_acc: 0.9866\n",
      "Epoch 7/12\n",
      "60000/60000 [==============================] - 112s - loss: 0.0666 - acc: 0.9808 - val_loss: 0.0361 - val_acc: 0.9879\n",
      "Epoch 8/12\n",
      "60000/60000 [==============================] - 113s - loss: 0.0607 - acc: 0.9815 - val_loss: 0.0349 - val_acc: 0.9885\n",
      "Epoch 9/12\n",
      "60000/60000 [==============================] - 112s - loss: 0.0553 - acc: 0.9834 - val_loss: 0.0315 - val_acc: 0.9902\n",
      "Epoch 10/12\n",
      "60000/60000 [==============================] - 113s - loss: 0.0546 - acc: 0.9837 - val_loss: 0.0339 - val_acc: 0.9888\n",
      "Epoch 11/12\n",
      "60000/60000 [==============================] - 113s - loss: 0.0508 - acc: 0.9849 - val_loss: 0.0322 - val_acc: 0.9895\n",
      "Epoch 12/12\n",
      "60000/60000 [==============================] - 115s - loss: 0.0493 - acc: 0.9857 - val_loss: 0.0388 - val_acc: 0.9877\n",
      "Training Finished in 23.669823149840038 minutes.\n"
     ]
    }
   ],
   "source": [
    "import time\n",
    "t1 = time.time()\n",
    "model.fit(X_train, Y_train, batch_size=batch_size, nb_epoch=nb_epoch,\n",
    "          verbose=1, validation_data=(X_test, Y_test))\n",
    "t2 = time.time()\n",
    "print('Training Finished in {} minutes.'.format((t2-t1)/60))"
   ]
  },
  {
   "cell_type": "code",
   "execution_count": 8,
   "metadata": {
    "collapsed": false
   },
   "outputs": [
    {
     "name": "stdout",
     "output_type": "stream",
     "text": [
      "Test score: 0.0387651254472\n",
      "Test accuracy: 0.9877\n"
     ]
    }
   ],
   "source": [
    "# Evaluate\n",
    "score = model.evaluate(X_test, Y_test, verbose=0)\n",
    "print('Test score:', score[0])\n",
    "print('Test accuracy:', score[1])"
   ]
  },
  {
   "cell_type": "markdown",
   "metadata": {},
   "source": [
    "# Visualize the inputs and predictions"
   ]
  },
  {
   "cell_type": "code",
   "execution_count": 151,
   "metadata": {
    "collapsed": false
   },
   "outputs": [],
   "source": [
    "import matplotlib.pyplot as plt\n",
    "import seaborn as sns\n",
    "sns.set_style('white')\n",
    "\n",
    "%matplotlib inline"
   ]
  },
  {
   "cell_type": "code",
   "execution_count": 144,
   "metadata": {
    "collapsed": true
   },
   "outputs": [],
   "source": [
    "def show_predictions(i):\n",
    "    X = X_test[i:i+1, :1]\n",
    "    digit_probs = model.predict_proba(X)[0]\n",
    "    idx = np.argmax(digit_probs)\n",
    "    \n",
    "    actual = np.argmax(Y_test[i])\n",
    "    \n",
    "    # Plot\n",
    "    fig, ax = plt.subplots(1, 1)\n",
    "    ax.imshow(X[0, 0])\n",
    "    ax.set_title('Predicted Digit = {}\\nActual digit = {}'.format(idx, actual))"
   ]
  },
  {
   "cell_type": "code",
   "execution_count": 165,
   "metadata": {
    "collapsed": false
   },
   "outputs": [
    {
     "name": "stdout",
     "output_type": "stream",
     "text": [
      "1/1 [==============================] - 0s\n"
     ]
    },
    {
     "data": {
      "image/png": "[encoded data removed]",
      "text/plain": [
       "<matplotlib.figure.Figure at 0x139907c18>"
      ]
     },
     "metadata": {},
     "output_type": "display_data"
    }
   ],
   "source": [
    "# Run this lots of times to visualize the testing set\n",
    "show_predictions(np.random.randint(X_test.shape[0]))"
   ]
  },
  {
   "cell_type": "code",
   "execution_count": 122,
   "metadata": {
    "collapsed": false
   },
   "outputs": [],
   "source": [
    "model.fit?"
   ]
  },
  {
   "cell_type": "code",
   "execution_count": null,
   "metadata": {
    "collapsed": true
   },
   "outputs": [],
   "source": []
  },
  {
   "cell_type": "code",
   "execution_count": null,
   "metadata": {
    "collapsed": true
   },
   "outputs": [],
   "source": []
  },
  {
   "cell_type": "code",
   "execution_count": null,
   "metadata": {
    "collapsed": true
   },
   "outputs": [],
   "source": []
  },
  {
   "cell_type": "code",
   "execution_count": null,
   "metadata": {
    "collapsed": true
   },
   "outputs": [],
   "source": []
  }
 ],
 "metadata": {
  "kernelspec": {
   "display_name": "Python 3",
   "language": "python",
   "name": "python3"
  },
  "language_info": {
   "codemirror_mode": {
    "name": "ipython",
    "version": 3
   },
   "file_extension": ".py",
   "mimetype": "text/x-python",
   "name": "python",
   "nbconvert_exporter": "python",
   "pygments_lexer": "ipython3",
   "version": "3.5.1"
  }
 },
 "nbformat": 4,
 "nbformat_minor": 0
}
