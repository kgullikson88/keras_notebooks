{
 "cells": [
  {
   "cell_type": "markdown",
   "metadata": {},
   "source": [
    "# Multi-layer Perceptron (normal neural network) on the Reuters newswire classification\n",
    "\n",
    "The original script that this notebook is based on is [here](https://github.com/fchollet/keras/blob/master/examples/reuters_mlp.py)"
   ]
  },
  {
   "cell_type": "code",
   "execution_count": 1,
   "metadata": {
    "collapsed": false
   },
   "outputs": [
    {
     "name": "stderr",
     "output_type": "stream",
     "text": [
      "Using Theano backend.\n"
     ]
    }
   ],
   "source": [
    "# Imports\n",
    "from __future__ import print_function\n",
    "import numpy as np\n",
    "np.random.seed(1337)  # for reproducibility\n",
    "\n",
    "from keras.datasets import reuters\n",
    "from keras.models import Sequential\n",
    "from keras.layers import Dense, Dropout, Activation\n",
    "from keras.utils import np_utils\n",
    "from keras.preprocessing.text import Tokenizer"
   ]
  },
  {
   "cell_type": "markdown",
   "metadata": {},
   "source": [
    "# Neural Network Settings\n",
    "\n",
    "- **`max_words`**: Only keep this many words as features. Uses the most common words.\n",
    "- Iterations:  These values set the number of iterations.\n",
    "    - **`batch_size`**: The number of samples per gradient update. Bigger values make the gradient update more accurate, but mean it takes longer to train the neural network\n",
    "    - **`nb_epoch`**: The number of times to go through all of the training data. Since `batch_size` is less than the full training set size, each \"epoch\" will be updating the gradient multiple times. So basically, the number of iterations is `nb_epoch * sample_size / batch_size`.    \n",
    "- **`nb_hidden`**: The number of hidden layers to use\n",
    "- **`nb_dense`**: The number of units to use in the hidden layer(s).\n",
    "- **`p_dropout`**: Randomly sets this fraction of the input units to 0 at each gradient update. It helps to prevent overfitting.\n",
    "\n",
    "## Network Architecture:\n",
    "\n",
    "Here is something close to what the neural network we use here looks like.\n",
    "\n",
    "<img src=\"https://upload.wikimedia.org/wikipedia/commons/thumb/e/e4/Artificial_neural_network.svg/400px-Artificial_neural_network.svg.png\">\n",
    "\n",
    "Each of the input nodes correspond to a yes/no answer to the questions \"Does this article contain the word 'x'?\" In our model, we have `max_words` input nodes instead of the 3 shown here.\n",
    "\n",
    "The next layer, the hidden layer, is where a lot of the magic happens. Each hidden layer node input is a linear combination of the input layer values. Their output is a nonlinear \"activation\" function applied to the input. Typical activation functions are `tanh` or in this case, [`relu`](https://en.wikipedia.org/wiki/Rectifier_(neural_networks). The more hidden layer nodes you have, the more accurate the neural network can be.\n",
    "\n",
    "The output layer in our case is the number of types of news articles. Like the hidden layer, each node is a linear combination of the previous layer's outputs."
   ]
  },
  {
   "cell_type": "code",
   "execution_count": 30,
   "metadata": {
    "collapsed": true
   },
   "outputs": [],
   "source": [
    "max_words = 1000\n",
    "batch_size = 32\n",
    "nb_epoch = 15\n",
    "nb_dense = 512\n",
    "nb_hidden = 1   # The number of hidden layers to use\n",
    "p_dropout = 0.5"
   ]
  },
  {
   "cell_type": "markdown",
   "metadata": {},
   "source": [
    "# Get the data"
   ]
  },
  {
   "cell_type": "code",
   "execution_count": 25,
   "metadata": {
    "collapsed": false
   },
   "outputs": [
    {
     "name": "stdout",
     "output_type": "stream",
     "text": [
      "Loading data...\n",
      "8982 train sequences\n",
      "2246 test sequences\n",
      "46 classes\n",
      "Vectorizing sequence data...\n",
      "X_train shape: (8982, 1000)\n",
      "X_test shape: (2246, 1000)\n",
      "Convert class vector to binary class matrix (for use with categorical_crossentropy)\n",
      "Y_train shape: (8982, 46)\n",
      "Y_test shape: (2246, 46)\n"
     ]
    }
   ],
   "source": [
    "print('Loading data...')\n",
    "(X_train, y_train), (X_test, y_test) = reuters.load_data(nb_words=max_words, test_split=0.2)\n",
    "print(len(X_train), 'train sequences')\n",
    "print(len(X_test), 'test sequences')\n",
    "\n",
    "nb_classes = np.max(y_train)+1\n",
    "print(nb_classes, 'classes')\n",
    "\n",
    "print('Vectorizing sequence data...')\n",
    "tokenizer = Tokenizer(nb_words=max_words)\n",
    "X_train = tokenizer.sequences_to_matrix(X_train, mode='binary')\n",
    "X_test = tokenizer.sequences_to_matrix(X_test, mode='binary')\n",
    "print('X_train shape:', X_train.shape)\n",
    "print('X_test shape:', X_test.shape)\n",
    "\n",
    "print('Convert class vector to binary class matrix (for use with categorical_crossentropy)')\n",
    "Y_train = np_utils.to_categorical(y_train, nb_classes)\n",
    "Y_test = np_utils.to_categorical(y_test, nb_classes)\n",
    "print('Y_train shape:', Y_train.shape)\n",
    "print('Y_test shape:', Y_test.shape)"
   ]
  },
  {
   "cell_type": "markdown",
   "metadata": {},
   "source": [
    "# Build the Neural Network"
   ]
  },
  {
   "cell_type": "code",
   "execution_count": 32,
   "metadata": {
    "collapsed": false
   },
   "outputs": [
    {
     "name": "stdout",
     "output_type": "stream",
     "text": [
      "Building model...\n"
     ]
    }
   ],
   "source": [
    "print('Building model...')\n",
    "model = Sequential()\n",
    "model.add(Dense(nb_dense, input_shape=(max_words,)))\n",
    "model.add(Activation('relu'))\n",
    "model.add(Dropout(p_dropout))\n",
    "for _ in range(nb_hidden-1):\n",
    "    model.add(Dense(nb_dense))\n",
    "    model.add(Activation('relu'))\n",
    "    model.add(Dropout(p_dropout))\n",
    "model.add(Dense(nb_classes))\n",
    "model.add(Activation('softmax'))\n",
    "\n",
    "model.compile(loss='categorical_crossentropy',\n",
    "              optimizer='adam',\n",
    "              metrics=['accuracy'])"
   ]
  },
  {
   "cell_type": "markdown",
   "metadata": {},
   "source": [
    "# Fit and Evaluate"
   ]
  },
  {
   "cell_type": "code",
   "execution_count": 33,
   "metadata": {
    "collapsed": false
   },
   "outputs": [
    {
     "name": "stdout",
     "output_type": "stream",
     "text": [
      "Train on 8083 samples, validate on 899 samples\n",
      "Epoch 1/15\n",
      "8083/8083 [==============================] - 2s - loss: 1.5401 - acc: 0.6443 - val_loss: 1.2057 - val_acc: 0.7419\n",
      "Epoch 2/15\n",
      "8083/8083 [==============================] - 2s - loss: 0.9978 - acc: 0.7630 - val_loss: 1.0194 - val_acc: 0.7786\n",
      "Epoch 3/15\n",
      "8083/8083 [==============================] - 2s - loss: 0.7596 - acc: 0.8122 - val_loss: 0.9633 - val_acc: 0.7831\n",
      "Epoch 4/15\n",
      "8083/8083 [==============================] - 2s - loss: 0.5890 - acc: 0.8513 - val_loss: 0.9273 - val_acc: 0.7964\n",
      "Epoch 5/15\n",
      "8083/8083 [==============================] - 2s - loss: 0.4794 - acc: 0.8724 - val_loss: 0.9400 - val_acc: 0.7953\n",
      "Epoch 6/15\n",
      "8083/8083 [==============================] - 2s - loss: 0.4082 - acc: 0.8916 - val_loss: 1.0143 - val_acc: 0.8076\n",
      "Epoch 7/15\n",
      "8083/8083 [==============================] - 2s - loss: 0.3388 - acc: 0.9135 - val_loss: 0.9941 - val_acc: 0.8076\n",
      "Epoch 8/15\n",
      "8083/8083 [==============================] - 2s - loss: 0.3017 - acc: 0.9203 - val_loss: 1.0931 - val_acc: 0.7887\n",
      "Epoch 9/15\n",
      "8083/8083 [==============================] - 2s - loss: 0.2661 - acc: 0.9295 - val_loss: 1.0658 - val_acc: 0.7987\n",
      "Epoch 10/15\n",
      "8083/8083 [==============================] - 2s - loss: 0.2645 - acc: 0.9308 - val_loss: 1.0550 - val_acc: 0.7887\n",
      "Epoch 11/15\n",
      "8083/8083 [==============================] - 3s - loss: 0.2450 - acc: 0.9363 - val_loss: 1.0642 - val_acc: 0.7976\n",
      "Epoch 12/15\n",
      "8083/8083 [==============================] - 3s - loss: 0.2197 - acc: 0.9433 - val_loss: 1.1257 - val_acc: 0.7976\n",
      "Epoch 13/15\n",
      "8083/8083 [==============================] - 3s - loss: 0.2322 - acc: 0.9400 - val_loss: 1.1181 - val_acc: 0.8009\n",
      "Epoch 14/15\n",
      "8083/8083 [==============================] - 3s - loss: 0.1915 - acc: 0.9467 - val_loss: 1.2379 - val_acc: 0.7842\n",
      "Epoch 15/15\n",
      "8083/8083 [==============================] - 3s - loss: 0.1968 - acc: 0.9433 - val_loss: 1.2261 - val_acc: 0.7887\n",
      "Model training took 0.74 minutes\n"
     ]
    }
   ],
   "source": [
    "import time\n",
    "t1 = time.time()\n",
    "history = model.fit(X_train, Y_train,\n",
    "                    nb_epoch=nb_epoch, batch_size=batch_size,\n",
    "                    verbose=1, validation_split=0.1)\n",
    "t2 = time.time()\n",
    "print('Model training took {:.2g} minutes'.format((t2-t1)/60))"
   ]
  },
  {
   "cell_type": "code",
   "execution_count": 34,
   "metadata": {
    "collapsed": false
   },
   "outputs": [
    {
     "name": "stdout",
     "output_type": "stream",
     "text": [
      "2112/2246 [===========================>..] - ETA: 0s\n",
      "Test score: 1.1750655809\n",
      "Test accuracy: 0.792965271594\n"
     ]
    }
   ],
   "source": [
    "score = model.evaluate(X_test, Y_test,\n",
    "                       batch_size=batch_size, verbose=1)\n",
    "print('\\nTest score:', score[0])\n",
    "print('Test accuracy:', score[1])"
   ]
  },
  {
   "cell_type": "code",
   "execution_count": null,
   "metadata": {
    "collapsed": true
   },
   "outputs": [],
   "source": []
  }
 ],
 "metadata": {
  "kernelspec": {
   "display_name": "Python 3",
   "language": "python",
   "name": "python3"
  },
  "language_info": {
   "codemirror_mode": {
    "name": "ipython",
    "version": 3
   },
   "file_extension": ".py",
   "mimetype": "text/x-python",
   "name": "python",
   "nbconvert_exporter": "python",
   "pygments_lexer": "ipython3",
   "version": "3.5.1"
  }
 },
 "nbformat": 4,
 "nbformat_minor": 0
}
